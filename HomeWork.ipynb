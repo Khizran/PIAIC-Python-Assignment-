{
 "cells": [
  {
   "cell_type": "markdown",
   "metadata": {},
   "source": [
    "## Calculate Factorial"
   ]
  },
  {
   "cell_type": "code",
   "execution_count": 16,
   "metadata": {},
   "outputs": [
    {
     "name": "stdout",
     "output_type": "stream",
     "text": [
      "Enter a Number: 4\n",
      "Factorial of  4 is 24\n"
     ]
    }
   ],
   "source": [
    "def fact(n):\n",
    "    if n==1:\n",
    "        return n;\n",
    "    else:\n",
    "        return n*fact(n-1);\n",
    "    \n",
    "\n",
    "n = int(input(\"Enter a Number: \"))\n",
    "\n",
    "if num<0:\n",
    "    print(\"Factorial of negative doesn't Exist.\")\n",
    "    \n",
    "elif num==0:\n",
    "    print(\"Factorial of 0 is 1\")\n",
    "        \n",
    "else:\n",
    "     print(\"Factorial of \" ,num, \"is\" ,fact(n))"
   ]
  },
  {
   "cell_type": "markdown",
   "metadata": {},
   "source": [
    "### Factorial"
   ]
  },
  {
   "cell_type": "code",
   "execution_count": 24,
   "metadata": {},
   "outputs": [
    {
     "name": "stdout",
     "output_type": "stream",
     "text": [
      "Enter a Number: 4\n",
      "Factorial of  4 is 24\n"
     ]
    }
   ],
   "source": [
    "num = int(input(\"Enter a Number: \"))\n",
    "\n",
    "factorial = 1\n",
    "\n",
    "if num<0:\n",
    "    print(\"Factorial of negative No doesnt Exist...\")\n",
    "    \n",
    "elif num== 0:\n",
    "    print(\"Factorial of 0 is 1\")\n",
    "    \n",
    "else:\n",
    "    for i in range(1, num + 1):\n",
    "      factorial = factorial * i\n",
    "    print(\"Factorial of \", num, \"is\" ,factorial)"
   ]
  },
  {
   "cell_type": "markdown",
   "metadata": {},
   "source": [
    "### Prime No"
   ]
  },
  {
   "cell_type": "code",
   "execution_count": 27,
   "metadata": {},
   "outputs": [
    {
     "name": "stdout",
     "output_type": "stream",
     "text": [
      "Enter a Number: 3\n",
      "3  is prime No..\n"
     ]
    }
   ],
   "source": [
    "num= int(input(\"Enter a Number: \"))\n",
    "\n",
    "if num>1:\n",
    "    for i in range(2,num//2):\n",
    "        if(num%i)==0:\n",
    "            print(num,\" is not Prime No.\")\n",
    "            break\n",
    "    else:\n",
    "            print(num,\" is prime No..\")\n",
    "else:\n",
    "        print(num, \"is not Prime No\")"
   ]
  },
  {
   "cell_type": "markdown",
   "metadata": {},
   "source": [
    "### Check Operater"
   ]
  },
  {
   "cell_type": "code",
   "execution_count": 28,
   "metadata": {},
   "outputs": [
    {
     "name": "stdout",
     "output_type": "stream",
     "text": [
      "Enter N1: 10\n",
      "Enter N2: 10\n",
      "Enter any Operator +, -, *, /: \n",
      "User Entered No Operator\n"
     ]
    }
   ],
   "source": [
    "\n",
    "N1= int(input(\"Enter N1: \"))\n",
    "N2= int(input(\"Enter N2: \"))\n",
    "\n",
    "N3= str(input(\"Enter any Operator +, -, *, /: \"))\n",
    "\n",
    "\n",
    "if N3 == '+':\n",
    "    result = N1 + N2;\n",
    "    print(\"User Entered \", N3, \" Result = \", result)\n",
    "        \n",
    "        \n",
    "elif N3 == '-':\n",
    "    result = N2-N1;\n",
    "    print(\"User Entered \", N3, \" Result = \", result) \n",
    "        \n",
    "        \n",
    "elif N3 == '*':\n",
    "    result = N1 * N2;\n",
    "    print(\"User Entered \", N3, \" Result = \", result)\n",
    "        \n",
    "        \n",
    "elif N3 == '/':\n",
    "    result = N2/N1;\n",
    "    print(\"User Entered \", N3, \"Result = \", result)\n",
    "        \n",
    "        \n",
    "else:\n",
    "    print(\"User Entered No Operator\")\n",
    "    "
   ]
  },
  {
   "cell_type": "code",
   "execution_count": null,
   "metadata": {},
   "outputs": [],
   "source": []
  }
 ],
 "metadata": {
  "kernelspec": {
   "display_name": "Python 3",
   "language": "python",
   "name": "python3"
  },
  "language_info": {
   "codemirror_mode": {
    "name": "ipython",
    "version": 3
   },
   "file_extension": ".py",
   "mimetype": "text/x-python",
   "name": "python",
   "nbconvert_exporter": "python",
   "pygments_lexer": "ipython3",
   "version": "3.7.4"
  }
 },
 "nbformat": 4,
 "nbformat_minor": 2
}
